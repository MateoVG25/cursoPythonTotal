{
  "nbformat": 4,
  "nbformat_minor": 0,
  "metadata": {
    "colab": {
      "provenance": [],
      "authorship_tag": "ABX9TyNzYmsJirciGNj8P4d38BgM",
      "include_colab_link": true
    },
    "kernelspec": {
      "name": "python3",
      "display_name": "Python 3"
    },
    "language_info": {
      "name": "python"
    }
  },
  "cells": [
    {
      "cell_type": "markdown",
      "metadata": {
        "id": "view-in-github",
        "colab_type": "text"
      },
      "source": [
        "<a href=\"https://colab.research.google.com/github/MateoVG25/cursoPythonTotal/blob/master/fullPythonLearn.ipynb\" target=\"_parent\"><img src=\"https://colab.research.google.com/assets/colab-badge.svg\" alt=\"Open In Colab\"/></a>"
      ]
    },
    {
      "cell_type": "code",
      "execution_count": 6,
      "metadata": {
        "colab": {
          "base_uri": "https://localhost:8080/"
        },
        "id": "WnwfYRJ5sgNy",
        "outputId": "b244097b-eb63-47e4-cc2e-8f98e79ca5cb"
      },
      "outputs": [
        {
          "output_type": "stream",
          "name": "stdout",
          "text": [
            "<class 'str'>\n",
            "<class 'int'>\n"
          ]
        }
      ],
      "source": [
        "# conversiones\n",
        "\n",
        "num1 = 12345134\n",
        "\n",
        "num1 = str(num1)\n",
        "\n",
        "print(type(num1))\n",
        "\n",
        "num1 = int(num1)\n",
        "\n",
        "print(type(num1))"
      ]
    },
    {
      "cell_type": "code",
      "source": [
        "# round: este redondea el valor decimal al entero mas cercano, y tambien se puede poner la cantidad de valores que se toman despues del punto\n",
        "\n",
        "print(round(5.4345234534534535, 5))"
      ],
      "metadata": {
        "colab": {
          "base_uri": "https://localhost:8080/"
        },
        "id": "Kfzzy-QFFg5B",
        "outputId": "50f2a124-2715-4f47-de46-d4240e1c3c5f"
      },
      "execution_count": 9,
      "outputs": [
        {
          "output_type": "stream",
          "name": "stdout",
          "text": [
            "5.43452\n"
          ]
        }
      ]
    }
  ]
}